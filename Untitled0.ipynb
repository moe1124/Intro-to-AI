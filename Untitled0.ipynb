{
  "nbformat": 4,
  "nbformat_minor": 0,
  "metadata": {
    "colab": {
      "provenance": [],
      "authorship_tag": "ABX9TyNhs1ObUBrki3VXXssh7Mw8",
      "include_colab_link": true
    },
    "kernelspec": {
      "name": "python3",
      "display_name": "Python 3"
    },
    "language_info": {
      "name": "python"
    }
  },
  "cells": [
    {
      "cell_type": "markdown",
      "metadata": {
        "id": "view-in-github",
        "colab_type": "text"
      },
      "source": [
        "<a href=\"https://colab.research.google.com/github/moe1124/Intro-to-AI/blob/main/Untitled0.ipynb\" target=\"_parent\"><img src=\"https://colab.research.google.com/assets/colab-badge.svg\" alt=\"Open In Colab\"/></a>"
      ]
    },
    {
      "cell_type": "code",
      "execution_count": null,
      "metadata": {
        "id": "hTuzLAvSey2R"
      },
      "outputs": [],
      "source": [
        "print(\"cool\")"
      ]
    },
    {
      "cell_type": "markdown",
      "source": [],
      "metadata": {
        "id": "k37G3COQgvmW"
      }
    },
    {
      "cell_type": "markdown",
      "source": [],
      "metadata": {
        "id": "gBC-8gusqmUz"
      }
    },
    {
      "cell_type": "code",
      "source": [
        "import matplotlib.pyplot as plt\n",
        "# Make fake data\n",
        "#The \"#\" symbol means a comment\n",
        "#[] is used for lists - so x and y are lists\n",
        "# Note that y is x squared\n",
        "x = [1,2,3,4]"
      ],
      "metadata": {
        "id": "OpRJVv1EqL4L"
      },
      "execution_count": null,
      "outputs": []
    },
    {
      "cell_type": "code",
      "source": [
        "# use numpy\n",
        "import numpy as np\n",
        "x = np.array([1,2,3,4])\n",
        "y = np.array([1,4,9,16])\n",
        "print(x)\n",
        "print(y)\n",
        "y = x**2\n",
        "print(y)"
      ],
      "metadata": {
        "id": "XyStYaQSr0qw"
      },
      "execution_count": null,
      "outputs": []
    },
    {
      "cell_type": "code",
      "source": [],
      "metadata": {
        "id": "cVAcJnwour6D"
      },
      "execution_count": null,
      "outputs": []
    }
  ]
}